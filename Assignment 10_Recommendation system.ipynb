{
 "cells": [
  {
   "cell_type": "code",
   "execution_count": 58,
   "id": "2d6fb497",
   "metadata": {},
   "outputs": [],
   "source": [
    "import pandas as pd\n",
    "import numpy as np\n",
    "import matplotlib.pyplot as plt\n",
    "from sklearn.feature_extraction.text import TfidfVectorizer\n",
    "from sklearn.metrics.pairwise import cosine_similarity"
   ]
  },
  {
   "cell_type": "code",
   "execution_count": 9,
   "id": "d196b2e9",
   "metadata": {},
   "outputs": [],
   "source": [
    "df = pd.read_csv('/Users/deeptilalwani/Documents/Data Science/ASSIGNMENTS/10/book.csv',encoding='latin-1')"
   ]
  },
  {
   "cell_type": "code",
   "execution_count": 10,
   "id": "a10a5f3a",
   "metadata": {},
   "outputs": [
    {
     "data": {
      "text/plain": [
       "(10000, 4)"
      ]
     },
     "execution_count": 10,
     "metadata": {},
     "output_type": "execute_result"
    }
   ],
   "source": [
    "df.shape"
   ]
  },
  {
   "cell_type": "markdown",
   "id": "a2acc90e",
   "metadata": {},
   "source": [
    "#  Preprocess the data "
   ]
  },
  {
   "cell_type": "code",
   "execution_count": 14,
   "id": "ca206b07",
   "metadata": {},
   "outputs": [],
   "source": [
    "df.rename(columns={'Unnamed: 0':'ID'}, inplace=True )\n",
    "df.rename(columns={'Book.Title':'Title'}, inplace = True)\n",
    "df.rename(columns={'User.ID':'User ID'}, inplace = True)\n",
    "df.rename(columns={'Book.Rating':'Rating'}, inplace = True)"
   ]
  },
  {
   "cell_type": "code",
   "execution_count": 15,
   "id": "88ea5005",
   "metadata": {},
   "outputs": [],
   "source": [
    "df = df.drop_duplicates(subset=['Title', 'User ID'], keep='first')"
   ]
  },
  {
   "cell_type": "code",
   "execution_count": 16,
   "id": "a3fdfb7b",
   "metadata": {},
   "outputs": [
    {
     "data": {
      "text/html": [
       "<div>\n",
       "<style scoped>\n",
       "    .dataframe tbody tr th:only-of-type {\n",
       "        vertical-align: middle;\n",
       "    }\n",
       "\n",
       "    .dataframe tbody tr th {\n",
       "        vertical-align: top;\n",
       "    }\n",
       "\n",
       "    .dataframe thead th {\n",
       "        text-align: right;\n",
       "    }\n",
       "</style>\n",
       "<table border=\"1\" class=\"dataframe\">\n",
       "  <thead>\n",
       "    <tr style=\"text-align: right;\">\n",
       "      <th></th>\n",
       "      <th>ID</th>\n",
       "      <th>User ID</th>\n",
       "      <th>Title</th>\n",
       "      <th>Rating</th>\n",
       "    </tr>\n",
       "  </thead>\n",
       "  <tbody>\n",
       "    <tr>\n",
       "      <th>0</th>\n",
       "      <td>1</td>\n",
       "      <td>276726</td>\n",
       "      <td>Classical Mythology</td>\n",
       "      <td>5</td>\n",
       "    </tr>\n",
       "    <tr>\n",
       "      <th>1</th>\n",
       "      <td>2</td>\n",
       "      <td>276729</td>\n",
       "      <td>Clara Callan</td>\n",
       "      <td>3</td>\n",
       "    </tr>\n",
       "    <tr>\n",
       "      <th>2</th>\n",
       "      <td>3</td>\n",
       "      <td>276729</td>\n",
       "      <td>Decision in Normandy</td>\n",
       "      <td>6</td>\n",
       "    </tr>\n",
       "    <tr>\n",
       "      <th>3</th>\n",
       "      <td>4</td>\n",
       "      <td>276736</td>\n",
       "      <td>Flu: The Story of the Great Influenza Pandemic...</td>\n",
       "      <td>8</td>\n",
       "    </tr>\n",
       "    <tr>\n",
       "      <th>4</th>\n",
       "      <td>5</td>\n",
       "      <td>276737</td>\n",
       "      <td>The Mummies of Urumchi</td>\n",
       "      <td>6</td>\n",
       "    </tr>\n",
       "  </tbody>\n",
       "</table>\n",
       "</div>"
      ],
      "text/plain": [
       "   ID  User ID                                              Title  Rating\n",
       "0   1   276726                                Classical Mythology       5\n",
       "1   2   276729                                       Clara Callan       3\n",
       "2   3   276729                               Decision in Normandy       6\n",
       "3   4   276736  Flu: The Story of the Great Influenza Pandemic...       8\n",
       "4   5   276737                             The Mummies of Urumchi       6"
      ]
     },
     "execution_count": 16,
     "metadata": {},
     "output_type": "execute_result"
    }
   ],
   "source": [
    "df.head()"
   ]
  },
  {
   "cell_type": "code",
   "execution_count": 17,
   "id": "45271ec1",
   "metadata": {},
   "outputs": [
    {
     "data": {
      "text/plain": [
       "(9993, 4)"
      ]
     },
     "execution_count": 17,
     "metadata": {},
     "output_type": "execute_result"
    }
   ],
   "source": [
    "df.shape"
   ]
  },
  {
   "cell_type": "code",
   "execution_count": 19,
   "id": "2818173f",
   "metadata": {},
   "outputs": [
    {
     "data": {
      "text/html": [
       "<div>\n",
       "<style scoped>\n",
       "    .dataframe tbody tr th:only-of-type {\n",
       "        vertical-align: middle;\n",
       "    }\n",
       "\n",
       "    .dataframe tbody tr th {\n",
       "        vertical-align: top;\n",
       "    }\n",
       "\n",
       "    .dataframe thead th {\n",
       "        text-align: right;\n",
       "    }\n",
       "</style>\n",
       "<table border=\"1\" class=\"dataframe\">\n",
       "  <thead>\n",
       "    <tr style=\"text-align: right;\">\n",
       "      <th></th>\n",
       "      <th>Characteristic</th>\n",
       "      <th>Count</th>\n",
       "    </tr>\n",
       "  </thead>\n",
       "  <tbody>\n",
       "    <tr>\n",
       "      <th>0</th>\n",
       "      <td># of Ratings</td>\n",
       "      <td>9993</td>\n",
       "    </tr>\n",
       "    <tr>\n",
       "      <th>1</th>\n",
       "      <td># of Users</td>\n",
       "      <td>2182</td>\n",
       "    </tr>\n",
       "    <tr>\n",
       "      <th>2</th>\n",
       "      <td># of Books</td>\n",
       "      <td>9659</td>\n",
       "    </tr>\n",
       "  </tbody>\n",
       "</table>\n",
       "</div>"
      ],
      "text/plain": [
       "  Characteristic  Count\n",
       "0   # of Ratings   9993\n",
       "1     # of Users   2182\n",
       "2     # of Books   9659"
      ]
     },
     "execution_count": 19,
     "metadata": {},
     "output_type": "execute_result"
    }
   ],
   "source": [
    "num_ratings = df['Rating'].count()\n",
    "num_users = df['User ID'].nunique()\n",
    "num_books = df['Title'].nunique()\n",
    "\n",
    "pd.DataFrame([['# of Ratings', num_ratings],\n",
    "            ['# of Users', num_users],\n",
    "            ['# of Books', num_books]],\n",
    "            columns = ['Characteristic', 'Count'])"
   ]
  },
  {
   "cell_type": "markdown",
   "id": "d5759661",
   "metadata": {},
   "source": [
    "##### There are 9993 rows and 4 columns out of which Rating Count is 9993, Unique Users 2182 & Unique Book title is 9659"
   ]
  },
  {
   "cell_type": "code",
   "execution_count": 20,
   "id": "a8451c25",
   "metadata": {},
   "outputs": [
    {
     "data": {
      "text/html": [
       "<div>\n",
       "<style scoped>\n",
       "    .dataframe tbody tr th:only-of-type {\n",
       "        vertical-align: middle;\n",
       "    }\n",
       "\n",
       "    .dataframe tbody tr th {\n",
       "        vertical-align: top;\n",
       "    }\n",
       "\n",
       "    .dataframe thead th {\n",
       "        text-align: right;\n",
       "    }\n",
       "</style>\n",
       "<table border=\"1\" class=\"dataframe\">\n",
       "  <thead>\n",
       "    <tr style=\"text-align: right;\">\n",
       "      <th></th>\n",
       "      <th>ID</th>\n",
       "      <th>User ID</th>\n",
       "      <th>Rating</th>\n",
       "    </tr>\n",
       "  </thead>\n",
       "  <tbody>\n",
       "    <tr>\n",
       "      <th>count</th>\n",
       "      <td>9993.000000</td>\n",
       "      <td>9993.000000</td>\n",
       "      <td>9993.000000</td>\n",
       "    </tr>\n",
       "    <tr>\n",
       "      <th>mean</th>\n",
       "      <td>5000.180226</td>\n",
       "      <td>95342.799860</td>\n",
       "      <td>7.566797</td>\n",
       "    </tr>\n",
       "    <tr>\n",
       "      <th>std</th>\n",
       "      <td>2887.196649</td>\n",
       "      <td>117652.347377</td>\n",
       "      <td>1.820884</td>\n",
       "    </tr>\n",
       "    <tr>\n",
       "      <th>min</th>\n",
       "      <td>1.000000</td>\n",
       "      <td>8.000000</td>\n",
       "      <td>1.000000</td>\n",
       "    </tr>\n",
       "    <tr>\n",
       "      <th>25%</th>\n",
       "      <td>2500.000000</td>\n",
       "      <td>2103.000000</td>\n",
       "      <td>7.000000</td>\n",
       "    </tr>\n",
       "    <tr>\n",
       "      <th>50%</th>\n",
       "      <td>5000.000000</td>\n",
       "      <td>3757.000000</td>\n",
       "      <td>8.000000</td>\n",
       "    </tr>\n",
       "    <tr>\n",
       "      <th>75%</th>\n",
       "      <td>7501.000000</td>\n",
       "      <td>162052.000000</td>\n",
       "      <td>9.000000</td>\n",
       "    </tr>\n",
       "    <tr>\n",
       "      <th>max</th>\n",
       "      <td>10000.000000</td>\n",
       "      <td>278854.000000</td>\n",
       "      <td>10.000000</td>\n",
       "    </tr>\n",
       "  </tbody>\n",
       "</table>\n",
       "</div>"
      ],
      "text/plain": [
       "                 ID        User ID       Rating\n",
       "count   9993.000000    9993.000000  9993.000000\n",
       "mean    5000.180226   95342.799860     7.566797\n",
       "std     2887.196649  117652.347377     1.820884\n",
       "min        1.000000       8.000000     1.000000\n",
       "25%     2500.000000    2103.000000     7.000000\n",
       "50%     5000.000000    3757.000000     8.000000\n",
       "75%     7501.000000  162052.000000     9.000000\n",
       "max    10000.000000  278854.000000    10.000000"
      ]
     },
     "execution_count": 20,
     "metadata": {},
     "output_type": "execute_result"
    }
   ],
   "source": [
    "df.describe()"
   ]
  },
  {
   "cell_type": "code",
   "execution_count": 22,
   "id": "3bfa55a9",
   "metadata": {},
   "outputs": [
    {
     "data": {
      "text/plain": [
       "count    9993.000000\n",
       "mean        7.566797\n",
       "std         1.820884\n",
       "min         1.000000\n",
       "25%         7.000000\n",
       "50%         8.000000\n",
       "75%         9.000000\n",
       "max        10.000000\n",
       "Name: Rating, dtype: float64"
      ]
     },
     "execution_count": 22,
     "metadata": {},
     "output_type": "execute_result"
    }
   ],
   "source": [
    "df['Rating'].describe()"
   ]
  },
  {
   "cell_type": "code",
   "execution_count": 25,
   "id": "3ef718c8",
   "metadata": {},
   "outputs": [
    {
     "data": {
      "image/png": "[encoded data removed]",
      "text/plain": [
       "<Figure size 640x480 with 1 Axes>"
      ]
     },
     "metadata": {},
     "output_type": "display_data"
    }
   ],
   "source": [
    "data = df['Rating']\n",
    "bins = [1, 2, 3, 4, 5, 6, 7, 8, 9, 10, 11]\n",
    "\n",
    "plt.hist(data, bins, align=\"left\", rwidth = 0.7)\n",
    "plt.xticks(bins)\n",
    "plt.xlabel('Rating Values')\n",
    "plt.ylabel('Frequency')\n",
    "plt.title('Frequency of user ratings')\n",
    "plt.show()"
   ]
  },
  {
   "cell_type": "markdown",
   "id": "3e57fb49",
   "metadata": {},
   "source": [
    "##### As we see, most users provided pretty positive ratings on books, with the most frequent rating being 8 and average was 7.5"
   ]
  },
  {
   "cell_type": "code",
   "execution_count": 27,
   "id": "7567f3b9",
   "metadata": {},
   "outputs": [],
   "source": [
    "#Vectorize the text data\n",
    "tfidf = TfidfVectorizer(stop_words='english')\n",
    "tfidf_matrix = tfidf.fit_transform(df['Title'])"
   ]
  },
  {
   "cell_type": "markdown",
   "id": "9c1f006a",
   "metadata": {},
   "source": [
    "# Calculate cosine similarity scores"
   ]
  },
  {
   "cell_type": "code",
   "execution_count": 28,
   "id": "23150615",
   "metadata": {},
   "outputs": [],
   "source": [
    "cosine_sim = cosine_similarity(tfidf_matrix, tfidf_matrix)\n"
   ]
  },
  {
   "cell_type": "code",
   "execution_count": 54,
   "id": "6febc7c3",
   "metadata": {},
   "outputs": [
    {
     "name": "stdout",
     "output_type": "stream",
     "text": [
      "Number of books: 9993\n",
      "Shape of cosine similarity matrix: (9993, 9993)\n"
     ]
    }
   ],
   "source": [
    "# Shape of the cosine similarity matrix\n",
    "num_books = cosine_sim.shape[0]\n",
    "print(\"Number of books:\", num_books)\n",
    "print(\"Shape of cosine similarity matrix:\", cosine_sim.shape)"
   ]
  },
  {
   "cell_type": "code",
   "execution_count": 55,
   "id": "1cef6a9e",
   "metadata": {},
   "outputs": [
    {
     "name": "stdout",
     "output_type": "stream",
     "text": [
      "Range of scores: 0.0 to 1.0000000000000007\n"
     ]
    }
   ],
   "source": [
    "# Range of scores and interpretation\n",
    "min_score = cosine_sim.min()\n",
    "max_score = cosine_sim.max()\n",
    "print(\"Range of scores:\", min_score, \"to\", max_score)\n"
   ]
  },
  {
   "cell_type": "code",
   "execution_count": 56,
   "id": "ef8c08ba",
   "metadata": {},
   "outputs": [],
   "source": [
    "# Interpretation of scores\n",
    "# Scores close to 1 indicate high similarity between books\n",
    "# Scores close to 0 indicate low similarity between books\n",
    "# Scores close to -1 indicate dissimilarity between books"
   ]
  },
  {
   "cell_type": "markdown",
   "id": "55eda107",
   "metadata": {},
   "source": [
    "##### The range includes the lower bound of 0.0, indicating that there are pairs of books with no textual overlap or similarity\n",
    "#####  The maximum value of 1.0000000000000007 suggests that there is a pair of books in dataset that have an exact or near-exact match in terms of their textual representation"
   ]
  },
  {
   "cell_type": "code",
   "execution_count": 59,
   "id": "a57e5bed",
   "metadata": {},
   "outputs": [
    {
     "name": "stdout",
     "output_type": "stream",
     "text": [
      "Sparsity of cosine similarity matrix: 98.63%\n"
     ]
    }
   ],
   "source": [
    "# Insights about the sparse nature of cosine similarity matrix\n",
    "nonzero_elements = np.count_nonzero(cosine_sim)\n",
    "total_elements = cosine_sim.shape[0] * cosine_sim.shape[1]\n",
    "sparsity = 1 - (nonzero_elements / total_elements)\n",
    "print(\"Sparsity of cosine similarity matrix: {:.2%}\".format(sparsity))\n"
   ]
  },
  {
   "cell_type": "markdown",
   "id": "4c19c72b",
   "metadata": {},
   "source": [
    "##### The sparsity of 98.63% indicates that only a small portion of the cosine similarity matrix contains non-zero values. \n",
    "##### Since most elements are zeros, a non-zero score indicates a potential similarity relationship between the corresponding books."
   ]
  },
  {
   "cell_type": "markdown",
   "id": "311ebd06",
   "metadata": {},
   "source": [
    "# Select Target book based on \"User Input\""
   ]
  },
  {
   "cell_type": "code",
   "execution_count": 31,
   "id": "bdb9cee8",
   "metadata": {},
   "outputs": [],
   "source": [
    "target_book = 'The Catcher in the Rye' \n",
    "# Example target book title"
   ]
  },
  {
   "cell_type": "code",
   "execution_count": 34,
   "id": "5fb4a41f",
   "metadata": {},
   "outputs": [],
   "source": [
    "#Find most similar books\n",
    "book_indices = df[df['Title'] == target_book].index\n",
    "book_scores = list(enumerate(cosine_sim[book_indices[0]]))\n",
    "book_scores = sorted(book_scores, key=lambda x: x[1], reverse=True)"
   ]
  },
  {
   "cell_type": "code",
   "execution_count": 36,
   "id": "78585fe9",
   "metadata": {},
   "outputs": [],
   "source": [
    "#Present recommendations\n",
    "top_n = 5  # Number of recommendations to display\n",
    "recommended_books_indices = [i[0] for i in book_scores[1:top_n+1]]\n",
    "recommended_books = df.iloc[recommended_books_indices]['Title']"
   ]
  },
  {
   "cell_type": "code",
   "execution_count": 37,
   "id": "1225aa30",
   "metadata": {},
   "outputs": [
    {
     "name": "stdout",
     "output_type": "stream",
     "text": [
      "Recommended books:\n",
      "The Catcher in the Rye\n",
      "Ham on Rye\n",
      "Catcher in the Wry\n",
      "Spy Catcher: The Candid Autobiography of a Senior Intelligence Officer\n",
      "Classical Mythology\n"
     ]
    }
   ],
   "source": [
    "print(\"Recommended books:\")\n",
    "for book in recommended_books:\n",
    "    print(book)"
   ]
  },
  {
   "cell_type": "markdown",
   "id": "6318d240",
   "metadata": {},
   "source": [
    "# Select Target book based on \"Popular Books Approach\" "
   ]
  },
  {
   "cell_type": "markdown",
   "id": "8f129b90",
   "metadata": {},
   "source": [
    "#### In this code, we select the target book based on the popular books approach. The target book is chosen as the most popular book from the dataset, based on the count of occurrences in the \"book title\" column."
   ]
  },
  {
   "cell_type": "code",
   "execution_count": 51,
   "id": "f64349cb",
   "metadata": {},
   "outputs": [],
   "source": [
    "# Popular books approach: Choose the most popular book from the dataset\n",
    "popular_books = df['Title'].value_counts().index\n",
    "target_book = popular_books[0]"
   ]
  },
  {
   "cell_type": "code",
   "execution_count": 52,
   "id": "85983419",
   "metadata": {},
   "outputs": [],
   "source": [
    "#Find most similar books\n",
    "book_indices = df[df['Title'] == target_book].index\n",
    "book_scores = list(enumerate(cosine_sim[book_indices[0]]))\n",
    "book_scores = sorted(book_scores, key=lambda x: x[1], reverse=True)"
   ]
  },
  {
   "cell_type": "code",
   "execution_count": 53,
   "id": "d9a22b61",
   "metadata": {},
   "outputs": [
    {
     "name": "stdout",
     "output_type": "stream",
     "text": [
      "Recommended books:\n",
      "Fahrenheit 451 / Fahrenheit 451\n",
      "Fahrenheit 451 - T.D. -\n",
      "Fahrenheit 451\n",
      "Fahrenheit 451\n",
      "Fahrenheit 451\n"
     ]
    }
   ],
   "source": [
    "#Present recommendations\n",
    "top_n = 5  # Number of recommendations to display\n",
    "recommended_books_indices = [i[0] for i in book_scores[1:top_n+1]]\n",
    "recommended_books = df.iloc[recommended_books_indices]['Title']\n",
    "\n",
    "print(\"Recommended books:\")\n",
    "for book in recommended_books:\n",
    "    print(book)"
   ]
  },
  {
   "cell_type": "markdown",
   "id": "d46a628c",
   "metadata": {},
   "source": [
    "# Select Target book based on \"Random Selection\""
   ]
  },
  {
   "cell_type": "markdown",
   "id": "d240f0c4",
   "metadata": {},
   "source": [
    "#### For the random selection approach, a random book is chosen from the dataset using the random.choice() function. \n",
    "#### This allows us to explore the recommendations for different books and assess the effectiveness of the recommender system in a random scenario."
   ]
  },
  {
   "cell_type": "code",
   "execution_count": 44,
   "id": "4a0e563d",
   "metadata": {},
   "outputs": [],
   "source": [
    "import random\n",
    "# Random selection approach: Choose a random book from the dataset\n",
    "random_book = random.choice(df['Title'])\n",
    "target_book = random_book\n"
   ]
  },
  {
   "cell_type": "code",
   "execution_count": 47,
   "id": "fa15a036",
   "metadata": {},
   "outputs": [],
   "source": [
    "#Find most similar books\n",
    "book_indices = df[df['Title'] == target_book].index\n",
    "book_scores = list(enumerate(cosine_sim[book_indices[0]]))\n",
    "book_scores = sorted(book_scores, key=lambda x: x[1], reverse=True)"
   ]
  },
  {
   "cell_type": "code",
   "execution_count": 48,
   "id": "78c5aeb1",
   "metadata": {},
   "outputs": [
    {
     "name": "stdout",
     "output_type": "stream",
     "text": [
      "Recommended books:\n",
      "Another View\n",
      "A Room of One's Own\n",
      "The Dark Room\n",
      "Breathing Room: A Novel\n",
      "Upstairs Room\n"
     ]
    }
   ],
   "source": [
    "#Present recommendations\n",
    "top_n = 5  # Number of recommendations to display\n",
    "recommended_books_indices = [i[0] for i in book_scores[1:top_n+1]]\n",
    "recommended_books = df.iloc[recommended_books_indices]['Title']\n",
    "\n",
    "print(\"Recommended books:\")\n",
    "for book in recommended_books:\n",
    "    print(book)"
   ]
  }
 ],
 "metadata": {
  "kernelspec": {
   "display_name": "Python 3 (ipykernel)",
   "language": "python",
   "name": "python3"
  },
  "language_info": {
   "codemirror_mode": {
    "name": "ipython",
    "version": 3
   },
   "file_extension": ".py",
   "mimetype": "text/x-python",
   "name": "python",
   "nbconvert_exporter": "python",
   "pygments_lexer": "ipython3",
   "version": "3.10.9"
  }
 },
 "nbformat": 4,
 "nbformat_minor": 5
}
