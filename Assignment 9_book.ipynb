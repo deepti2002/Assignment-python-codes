{
 "cells": [
  {
   "cell_type": "code",
   "execution_count": 2,
   "id": "6efc4c2d",
   "metadata": {},
   "outputs": [],
   "source": [
    "import pandas as pd\n",
    "from mlxtend.frequent_patterns import apriori, association_rules"
   ]
  },
  {
   "cell_type": "code",
   "execution_count": 3,
   "id": "07db7283",
   "metadata": {},
   "outputs": [
    {
     "name": "stdout",
     "output_type": "stream",
     "text": [
      "Requirement already satisfied: mlxtend in ./Downloads/anaconda3/lib/python3.10/site-packages (0.22.0)\n",
      "Requirement already satisfied: scikit-learn>=1.0.2 in ./Downloads/anaconda3/lib/python3.10/site-packages (from mlxtend) (1.2.1)\n",
      "Requirement already satisfied: numpy>=1.16.2 in ./Downloads/anaconda3/lib/python3.10/site-packages (from mlxtend) (1.23.5)\n",
      "Requirement already satisfied: joblib>=0.13.2 in ./Downloads/anaconda3/lib/python3.10/site-packages (from mlxtend) (1.1.1)\n",
      "Requirement already satisfied: setuptools in ./Downloads/anaconda3/lib/python3.10/site-packages (from mlxtend) (65.6.3)\n",
      "Requirement already satisfied: pandas>=0.24.2 in ./Downloads/anaconda3/lib/python3.10/site-packages (from mlxtend) (1.5.3)\n",
      "Requirement already satisfied: scipy>=1.2.1 in ./Downloads/anaconda3/lib/python3.10/site-packages (from mlxtend) (1.10.0)\n",
      "Requirement already satisfied: matplotlib>=3.0.0 in ./Downloads/anaconda3/lib/python3.10/site-packages (from mlxtend) (3.7.0)\n",
      "Requirement already satisfied: fonttools>=4.22.0 in ./Downloads/anaconda3/lib/python3.10/site-packages (from matplotlib>=3.0.0->mlxtend) (4.25.0)\n",
      "Requirement already satisfied: contourpy>=1.0.1 in ./Downloads/anaconda3/lib/python3.10/site-packages (from matplotlib>=3.0.0->mlxtend) (1.0.5)\n",
      "Requirement already satisfied: pyparsing>=2.3.1 in ./Downloads/anaconda3/lib/python3.10/site-packages (from matplotlib>=3.0.0->mlxtend) (3.0.9)\n",
      "Requirement already satisfied: cycler>=0.10 in ./Downloads/anaconda3/lib/python3.10/site-packages (from matplotlib>=3.0.0->mlxtend) (0.11.0)\n",
      "Requirement already satisfied: pillow>=6.2.0 in ./Downloads/anaconda3/lib/python3.10/site-packages (from matplotlib>=3.0.0->mlxtend) (9.4.0)\n",
      "Requirement already satisfied: python-dateutil>=2.7 in ./Downloads/anaconda3/lib/python3.10/site-packages (from matplotlib>=3.0.0->mlxtend) (2.8.2)\n",
      "Requirement already satisfied: packaging>=20.0 in ./Downloads/anaconda3/lib/python3.10/site-packages (from matplotlib>=3.0.0->mlxtend) (22.0)\n",
      "Requirement already satisfied: kiwisolver>=1.0.1 in ./Downloads/anaconda3/lib/python3.10/site-packages (from matplotlib>=3.0.0->mlxtend) (1.4.4)\n",
      "Requirement already satisfied: pytz>=2020.1 in ./Downloads/anaconda3/lib/python3.10/site-packages (from pandas>=0.24.2->mlxtend) (2022.7)\n",
      "Requirement already satisfied: threadpoolctl>=2.0.0 in ./Downloads/anaconda3/lib/python3.10/site-packages (from scikit-learn>=1.0.2->mlxtend) (2.2.0)\n",
      "Requirement already satisfied: six>=1.5 in ./Downloads/anaconda3/lib/python3.10/site-packages (from python-dateutil>=2.7->matplotlib>=3.0.0->mlxtend) (1.16.0)\n"
     ]
    }
   ],
   "source": [
    "!pip install mlxtend"
   ]
  },
  {
   "cell_type": "markdown",
   "id": "1bfa29f8",
   "metadata": {},
   "source": [
    "# Try different values of support and confidence "
   ]
  },
  {
   "cell_type": "code",
   "execution_count": 4,
   "id": "d809101b",
   "metadata": {},
   "outputs": [],
   "source": [
    "# Load the dataset\n",
    "data = pd.read_csv(\"/Users/deeptilalwani/Documents/Data Science/ASSIGNMENTS/9/book.csv\")"
   ]
  },
  {
   "cell_type": "code",
   "execution_count": 5,
   "id": "01614e02",
   "metadata": {},
   "outputs": [
    {
     "data": {
      "text/html": [
       "<div>\n",
       "<style scoped>\n",
       "    .dataframe tbody tr th:only-of-type {\n",
       "        vertical-align: middle;\n",
       "    }\n",
       "\n",
       "    .dataframe tbody tr th {\n",
       "        vertical-align: top;\n",
       "    }\n",
       "\n",
       "    .dataframe thead th {\n",
       "        text-align: right;\n",
       "    }\n",
       "</style>\n",
       "<table border=\"1\" class=\"dataframe\">\n",
       "  <thead>\n",
       "    <tr style=\"text-align: right;\">\n",
       "      <th></th>\n",
       "      <th>ChildBks</th>\n",
       "      <th>YouthBks</th>\n",
       "      <th>CookBks</th>\n",
       "      <th>DoItYBks</th>\n",
       "      <th>RefBks</th>\n",
       "      <th>ArtBks</th>\n",
       "      <th>GeogBks</th>\n",
       "      <th>ItalCook</th>\n",
       "      <th>ItalAtlas</th>\n",
       "      <th>ItalArt</th>\n",
       "      <th>Florence</th>\n",
       "    </tr>\n",
       "  </thead>\n",
       "  <tbody>\n",
       "    <tr>\n",
       "      <th>0</th>\n",
       "      <td>0</td>\n",
       "      <td>1</td>\n",
       "      <td>0</td>\n",
       "      <td>1</td>\n",
       "      <td>0</td>\n",
       "      <td>0</td>\n",
       "      <td>1</td>\n",
       "      <td>0</td>\n",
       "      <td>0</td>\n",
       "      <td>0</td>\n",
       "      <td>0</td>\n",
       "    </tr>\n",
       "    <tr>\n",
       "      <th>1</th>\n",
       "      <td>1</td>\n",
       "      <td>0</td>\n",
       "      <td>0</td>\n",
       "      <td>0</td>\n",
       "      <td>0</td>\n",
       "      <td>0</td>\n",
       "      <td>0</td>\n",
       "      <td>0</td>\n",
       "      <td>0</td>\n",
       "      <td>0</td>\n",
       "      <td>0</td>\n",
       "    </tr>\n",
       "    <tr>\n",
       "      <th>2</th>\n",
       "      <td>0</td>\n",
       "      <td>0</td>\n",
       "      <td>0</td>\n",
       "      <td>0</td>\n",
       "      <td>0</td>\n",
       "      <td>0</td>\n",
       "      <td>0</td>\n",
       "      <td>0</td>\n",
       "      <td>0</td>\n",
       "      <td>0</td>\n",
       "      <td>0</td>\n",
       "    </tr>\n",
       "    <tr>\n",
       "      <th>3</th>\n",
       "      <td>1</td>\n",
       "      <td>1</td>\n",
       "      <td>1</td>\n",
       "      <td>0</td>\n",
       "      <td>1</td>\n",
       "      <td>0</td>\n",
       "      <td>1</td>\n",
       "      <td>0</td>\n",
       "      <td>0</td>\n",
       "      <td>0</td>\n",
       "      <td>0</td>\n",
       "    </tr>\n",
       "    <tr>\n",
       "      <th>4</th>\n",
       "      <td>0</td>\n",
       "      <td>0</td>\n",
       "      <td>1</td>\n",
       "      <td>0</td>\n",
       "      <td>0</td>\n",
       "      <td>0</td>\n",
       "      <td>1</td>\n",
       "      <td>0</td>\n",
       "      <td>0</td>\n",
       "      <td>0</td>\n",
       "      <td>0</td>\n",
       "    </tr>\n",
       "  </tbody>\n",
       "</table>\n",
       "</div>"
      ],
      "text/plain": [
       "   ChildBks  YouthBks  CookBks  DoItYBks  RefBks  ArtBks  GeogBks  ItalCook  \\\n",
       "0         0         1        0         1       0       0        1         0   \n",
       "1         1         0        0         0       0       0        0         0   \n",
       "2         0         0        0         0       0       0        0         0   \n",
       "3         1         1        1         0       1       0        1         0   \n",
       "4         0         0        1         0       0       0        1         0   \n",
       "\n",
       "   ItalAtlas  ItalArt  Florence  \n",
       "0          0        0         0  \n",
       "1          0        0         0  \n",
       "2          0        0         0  \n",
       "3          0        0         0  \n",
       "4          0        0         0  "
      ]
     },
     "execution_count": 5,
     "metadata": {},
     "output_type": "execute_result"
    }
   ],
   "source": [
    "data.head()"
   ]
  },
  {
   "cell_type": "code",
   "execution_count": 6,
   "id": "ad03c708",
   "metadata": {},
   "outputs": [
    {
     "data": {
      "text/plain": [
       "(2000, 11)"
      ]
     },
     "execution_count": 6,
     "metadata": {},
     "output_type": "execute_result"
    }
   ],
   "source": [
    "data.shape"
   ]
  },
  {
   "cell_type": "code",
   "execution_count": 7,
   "id": "65c87aeb",
   "metadata": {},
   "outputs": [],
   "source": [
    "# Convert the data into a binary matrix\n",
    "data_binary = data.applymap(lambda x: 1 if x == True else 0)"
   ]
  },
  {
   "cell_type": "code",
   "execution_count": 8,
   "id": "25bd37c2",
   "metadata": {},
   "outputs": [],
   "source": [
    "# Define a list of support and confidence values to try\n",
    "support_values = [0.1, 0.2, 0.3]\n",
    "confidence_values = [0.5, 0.6, 0.7]\n"
   ]
  },
  {
   "cell_type": "code",
   "execution_count": 9,
   "id": "d668a936",
   "metadata": {},
   "outputs": [
    {
     "name": "stdout",
     "output_type": "stream",
     "text": [
      "Support: 0.1, Confidence: 0.5\n",
      "Number of rules: 49\n",
      "Support: 0.1, Confidence: 0.6\n",
      "Number of rules: 30\n",
      "Support: 0.1, Confidence: 0.7\n",
      "Number of rules: 19\n",
      "Support: 0.2, Confidence: 0.5\n",
      "Number of rules: 2\n",
      "Support: 0.2, Confidence: 0.6\n",
      "Number of rules: 1\n",
      "Support: 0.2, Confidence: 0.7\n",
      "Number of rules: 0\n",
      "Support: 0.3, Confidence: 0.5\n",
      "Number of rules: 0\n",
      "Support: 0.3, Confidence: 0.6\n",
      "Number of rules: 0\n",
      "Support: 0.3, Confidence: 0.7\n",
      "Number of rules: 0\n"
     ]
    },
    {
     "name": "stderr",
     "output_type": "stream",
     "text": [
      "/Users/deeptilalwani/Downloads/anaconda3/lib/python3.10/site-packages/mlxtend/frequent_patterns/fpcommon.py:110: DeprecationWarning: DataFrames with non-bool types result in worse computationalperformance and their support might be discontinued in the future.Please use a DataFrame with bool type\n",
      "  warnings.warn(\n",
      "/Users/deeptilalwani/Downloads/anaconda3/lib/python3.10/site-packages/mlxtend/frequent_patterns/fpcommon.py:110: DeprecationWarning: DataFrames with non-bool types result in worse computationalperformance and their support might be discontinued in the future.Please use a DataFrame with bool type\n",
      "  warnings.warn(\n",
      "/Users/deeptilalwani/Downloads/anaconda3/lib/python3.10/site-packages/mlxtend/frequent_patterns/fpcommon.py:110: DeprecationWarning: DataFrames with non-bool types result in worse computationalperformance and their support might be discontinued in the future.Please use a DataFrame with bool type\n",
      "  warnings.warn(\n",
      "/Users/deeptilalwani/Downloads/anaconda3/lib/python3.10/site-packages/mlxtend/frequent_patterns/fpcommon.py:110: DeprecationWarning: DataFrames with non-bool types result in worse computationalperformance and their support might be discontinued in the future.Please use a DataFrame with bool type\n",
      "  warnings.warn(\n",
      "/Users/deeptilalwani/Downloads/anaconda3/lib/python3.10/site-packages/mlxtend/frequent_patterns/fpcommon.py:110: DeprecationWarning: DataFrames with non-bool types result in worse computationalperformance and their support might be discontinued in the future.Please use a DataFrame with bool type\n",
      "  warnings.warn(\n",
      "/Users/deeptilalwani/Downloads/anaconda3/lib/python3.10/site-packages/mlxtend/frequent_patterns/fpcommon.py:110: DeprecationWarning: DataFrames with non-bool types result in worse computationalperformance and their support might be discontinued in the future.Please use a DataFrame with bool type\n",
      "  warnings.warn(\n",
      "/Users/deeptilalwani/Downloads/anaconda3/lib/python3.10/site-packages/mlxtend/frequent_patterns/fpcommon.py:110: DeprecationWarning: DataFrames with non-bool types result in worse computationalperformance and their support might be discontinued in the future.Please use a DataFrame with bool type\n",
      "  warnings.warn(\n",
      "/Users/deeptilalwani/Downloads/anaconda3/lib/python3.10/site-packages/mlxtend/frequent_patterns/fpcommon.py:110: DeprecationWarning: DataFrames with non-bool types result in worse computationalperformance and their support might be discontinued in the future.Please use a DataFrame with bool type\n",
      "  warnings.warn(\n",
      "/Users/deeptilalwani/Downloads/anaconda3/lib/python3.10/site-packages/mlxtend/frequent_patterns/fpcommon.py:110: DeprecationWarning: DataFrames with non-bool types result in worse computationalperformance and their support might be discontinued in the future.Please use a DataFrame with bool type\n",
      "  warnings.warn(\n"
     ]
    }
   ],
   "source": [
    "# Loop through different support and confidence values\n",
    "for support in support_values:\n",
    "    for confidence in confidence_values:\n",
    "        # Apply the Apriori algorithm\n",
    "        frequent_itemsets = apriori(data_binary, min_support=support, use_colnames=True)\n",
    "        rules = association_rules(frequent_itemsets, metric=\"confidence\", min_threshold=confidence)\n",
    "\n",
    "        # Print the number of rules generated\n",
    "        print(f\"Support: {support}, Confidence: {confidence}\")\n",
    "        print(f\"Number of rules: {len(rules)}\")"
   ]
  },
  {
   "cell_type": "markdown",
   "id": "54f3c330",
   "metadata": {},
   "source": [
    "##Pattern or trends from above "
   ]
  },
  {
   "cell_type": "code",
   "execution_count": 10,
   "id": "d24a6303",
   "metadata": {},
   "outputs": [],
   "source": [
    "#As the support threshold decreases (0.1 to 0.3), the number of rules generated decreases. \n",
    "#When the support is set to 0.2, there are only 2 rules generated with a confidence of 0.5 and 1 rule generated with a confidence of 0.6.\n",
    "#When the confidence threshold is set to 0.7, the number of rules decreases significantly. \n",
    "#Based on these observations, it appears that the combination of lower support thresholds and higher confidence thresholds leads to a smaller number of rules being generated. \n",
    "#This implies a more strictlly controlled set of criteria for association rule discovery, resulting in stronger and more significant associations between items."
   ]
  },
  {
   "cell_type": "markdown",
   "id": "850cacc9",
   "metadata": {},
   "source": [
    "# Change the minimum length in the Apriori algorithm:"
   ]
  },
  {
   "cell_type": "code",
   "execution_count": 46,
   "id": "e69e1ac2",
   "metadata": {},
   "outputs": [],
   "source": [
    "# Set the minimum length for rules\n",
    "\n",
    "minimum_length = 3"
   ]
  },
  {
   "cell_type": "code",
   "execution_count": 47,
   "id": "e6ad9adc",
   "metadata": {},
   "outputs": [
    {
     "name": "stderr",
     "output_type": "stream",
     "text": [
      "/Users/deeptilalwani/Downloads/anaconda3/lib/python3.10/site-packages/mlxtend/frequent_patterns/fpcommon.py:110: DeprecationWarning: DataFrames with non-bool types result in worse computationalperformance and their support might be discontinued in the future.Please use a DataFrame with bool type\n",
      "  warnings.warn(\n"
     ]
    }
   ],
   "source": [
    "# Apply the Apriori algorithm\n",
    "frequent_itemsets = apriori(data_binary, min_support=0.2, use_colnames=True)\n",
    "\n"
   ]
  },
  {
   "cell_type": "code",
   "execution_count": 48,
   "id": "0a4ebe79",
   "metadata": {},
   "outputs": [],
   "source": [
    "# Filter rules based on length\n",
    "rules = association_rules(frequent_itemsets, metric=\"confidence\", min_threshold=0.5)\n",
    "filtered_rules = rules[rules['antecedents'].apply(lambda x: len(x) >= minimum_length)]"
   ]
  },
  {
   "cell_type": "code",
   "execution_count": 49,
   "id": "e99fdf37",
   "metadata": {},
   "outputs": [
    {
     "name": "stdout",
     "output_type": "stream",
     "text": [
      "Number of rules with minimum length 3: 0\n"
     ]
    }
   ],
   "source": [
    "# Print the number of rules generated\n",
    "print(f\"Number of rules with minimum length {minimum_length}: {len(filtered_rules)}\")"
   ]
  },
  {
   "cell_type": "code",
   "execution_count": 50,
   "id": "72e2eaf3",
   "metadata": {},
   "outputs": [],
   "source": [
    "#Comparing the results with the original Apriori algorithm without the minimum length restriction, it is likely that the number of generated rules was higher in the original case.\n",
    "#since no rules were generated with a minimum length of 3, it indicates that there are no significant associations between at least 3 items in the dataset.\n",
    "#This suggests that shorter rules might be more prevalent or that the dataset may not contain strong associations that meet the specified minimum length requirement."
   ]
  },
  {
   "cell_type": "markdown",
   "id": "c6668366",
   "metadata": {},
   "source": [
    "# #Experiment with different values and assess the resulting number and quality of rules. \n",
    "##This iterative process allows to find the optimal minimum length that strikes the right balance for our specific analysis objectives."
   ]
  },
  {
   "cell_type": "code",
   "execution_count": 55,
   "id": "ff960e65",
   "metadata": {},
   "outputs": [],
   "source": [
    "# Convert the data into a binary matrix\n",
    "data_binary = data.applymap(lambda x: 1 if x == True else 0)\n",
    "\n",
    "# Define a range of minimum lengths to try\n",
    "minimum_lengths = [2, 3, 4, 5]\n",
    "\n"
   ]
  },
  {
   "cell_type": "code",
   "execution_count": 65,
   "id": "e250d11b",
   "metadata": {},
   "outputs": [],
   "source": [
    "# Define lists to store results\n",
    "minimum_length_results = []\n",
    "number_of_rules_results = []\n",
    "average_support_results = []"
   ]
  },
  {
   "cell_type": "code",
   "execution_count": 70,
   "id": "4491fd38",
   "metadata": {},
   "outputs": [
    {
     "name": "stderr",
     "output_type": "stream",
     "text": [
      "/Users/deeptilalwani/Downloads/anaconda3/lib/python3.10/site-packages/mlxtend/frequent_patterns/fpcommon.py:110: DeprecationWarning: DataFrames with non-bool types result in worse computationalperformance and their support might be discontinued in the future.Please use a DataFrame with bool type\n",
      "  warnings.warn(\n",
      "/Users/deeptilalwani/Downloads/anaconda3/lib/python3.10/site-packages/mlxtend/frequent_patterns/fpcommon.py:110: DeprecationWarning: DataFrames with non-bool types result in worse computationalperformance and their support might be discontinued in the future.Please use a DataFrame with bool type\n",
      "  warnings.warn(\n",
      "/Users/deeptilalwani/Downloads/anaconda3/lib/python3.10/site-packages/mlxtend/frequent_patterns/fpcommon.py:110: DeprecationWarning: DataFrames with non-bool types result in worse computationalperformance and their support might be discontinued in the future.Please use a DataFrame with bool type\n",
      "  warnings.warn(\n",
      "/Users/deeptilalwani/Downloads/anaconda3/lib/python3.10/site-packages/mlxtend/frequent_patterns/fpcommon.py:110: DeprecationWarning: DataFrames with non-bool types result in worse computationalperformance and their support might be discontinued in the future.Please use a DataFrame with bool type\n",
      "  warnings.warn(\n"
     ]
    }
   ],
   "source": [
    "# Apply the Apriori algorithm for each minimum length\n",
    "for minimum_length in minimum_lengths:\n",
    "    # Apply the Apriori algorithm\n",
    "    frequent_itemsets = apriori(data_binary, min_support=0.2, use_colnames=True)\n",
    "\n",
    "    # Filter frequent itemsets based on minimum length\n",
    "    filtered_itemsets = frequent_itemsets[frequent_itemsets['itemsets'].apply(lambda x: len(x) >= minimum_length)]\n",
    "\n",
    "    # Generate rules from filtered itemsets if not empty\n",
    "    if not filtered_itemsets.empty:\n",
    "        rules = association_rules(filtered_itemsets, support_only=True, min_threshold=0.2)\n",
    "        number_of_rules = len(rules)\n",
    "        average_support = rules['support'].mean()\n",
    "    else:\n",
    "        number_of_rules = 0\n",
    "        average_support = 0"
   ]
  },
  {
   "cell_type": "code",
   "execution_count": 72,
   "id": "ab01b195",
   "metadata": {},
   "outputs": [],
   "source": [
    "# Store the results\n",
    "minimum_length_results.append(minimum_length)\n",
    "number_of_rules_results.append(number_of_rules)\n",
    "average_support_results.append(average_support)\n"
   ]
  },
  {
   "cell_type": "code",
   "execution_count": 73,
   "id": "3adef4bf",
   "metadata": {},
   "outputs": [
    {
     "name": "stdout",
     "output_type": "stream",
     "text": [
      "Minimum Length: 3\n",
      "Number of rules: 0\n",
      "Average Support: 0\n",
      "\n",
      "Minimum Length: 4\n",
      "Number of rules: 0\n",
      "Average Support: 0\n",
      "\n",
      "Minimum Length: 5\n",
      "Number of rules: 0\n",
      "Average Support: 0\n",
      "\n",
      "Minimum Length: 3\n",
      "Number of rules: 0\n",
      "Average Support: 0\n",
      "\n",
      "Minimum Length: 4\n",
      "Number of rules: 0\n",
      "Average Support: 0\n",
      "\n",
      "Minimum Length: 5\n",
      "Number of rules: 0\n",
      "Average Support: 0\n",
      "\n",
      "Minimum Length: 5\n",
      "Number of rules: 0\n",
      "Average Support: 0\n",
      "\n"
     ]
    }
   ],
   "source": [
    "# Print the results for each minimum length\n",
    "for i in range(len(minimum_length_results)):\n",
    "    print(f\"Minimum Length: {minimum_length_results[i]}\")\n",
    "    print(f\"Number of rules: {number_of_rules_results[i]}\")\n",
    "    print(f\"Average Support: {average_support_results[i]}\")\n",
    "    print()"
   ]
  },
  {
   "cell_type": "code",
   "execution_count": 74,
   "id": "33c2d1ed",
   "metadata": {},
   "outputs": [],
   "source": [
    "#This means that there are no combinations of items that occur frequently enough to satisfy the minimum support threshold and minimum length criteria."
   ]
  },
  {
   "cell_type": "markdown",
   "id": "d921623d",
   "metadata": {},
   "source": [
    "# # consider adjusting the support threshold"
   ]
  },
  {
   "cell_type": "code",
   "execution_count": 75,
   "id": "369edbfb",
   "metadata": {},
   "outputs": [],
   "source": [
    "# Define a range of minimum lengths to try\n",
    "minimum_lengths = [3, 4, 5]\n",
    "support_threshold = 0.1  # Adjust the support threshold here"
   ]
  },
  {
   "cell_type": "code",
   "execution_count": 79,
   "id": "41ea6358",
   "metadata": {},
   "outputs": [],
   "source": [
    "# Define lists to store results\n",
    "minimum_length_results = []\n",
    "number_of_rules_results = []\n",
    "average_support_results = []"
   ]
  },
  {
   "cell_type": "code",
   "execution_count": 80,
   "id": "004b839a",
   "metadata": {},
   "outputs": [
    {
     "name": "stdout",
     "output_type": "stream",
     "text": [
      "No frequent itemsets found for minimum length 4\n",
      "\n",
      "No frequent itemsets found for minimum length 5\n",
      "\n"
     ]
    },
    {
     "name": "stderr",
     "output_type": "stream",
     "text": [
      "/Users/deeptilalwani/Downloads/anaconda3/lib/python3.10/site-packages/mlxtend/frequent_patterns/fpcommon.py:110: DeprecationWarning: DataFrames with non-bool types result in worse computationalperformance and their support might be discontinued in the future.Please use a DataFrame with bool type\n",
      "  warnings.warn(\n",
      "/Users/deeptilalwani/Downloads/anaconda3/lib/python3.10/site-packages/mlxtend/frequent_patterns/fpcommon.py:110: DeprecationWarning: DataFrames with non-bool types result in worse computationalperformance and their support might be discontinued in the future.Please use a DataFrame with bool type\n",
      "  warnings.warn(\n",
      "/Users/deeptilalwani/Downloads/anaconda3/lib/python3.10/site-packages/mlxtend/frequent_patterns/fpcommon.py:110: DeprecationWarning: DataFrames with non-bool types result in worse computationalperformance and their support might be discontinued in the future.Please use a DataFrame with bool type\n",
      "  warnings.warn(\n"
     ]
    }
   ],
   "source": [
    "# Apply the Apriori algorithm for each minimum length\n",
    "for minimum_length in minimum_lengths:\n",
    "    # Apply the Apriori algorithm with adjusted support threshold\n",
    "    frequent_itemsets = apriori(data_binary, min_support=support_threshold, use_colnames=True)\n",
    "\n",
    "    # Filter frequent itemsets based on minimum length\n",
    "    filtered_itemsets = frequent_itemsets[frequent_itemsets['itemsets'].apply(lambda x: len(x) >= minimum_length)]\n",
    "\n",
    "    # Check if filtered itemsets DataFrame is empty\n",
    "    if filtered_itemsets.empty:\n",
    "        print(f\"No frequent itemsets found for minimum length {minimum_length}\")\n",
    "        print()\n",
    "        minimum_length_results.append(minimum_length)\n",
    "        number_of_rules_results.append(0)\n",
    "        average_support_results.append(0)\n",
    "        continue\n",
    "\n",
    "    # Generate rules from filtered itemsets\n",
    "    rules = association_rules(filtered_itemsets, support_only=True, min_threshold=support_threshold)"
   ]
  },
  {
   "cell_type": "code",
   "execution_count": 82,
   "id": "9eebbd16",
   "metadata": {},
   "outputs": [],
   "source": [
    "# Store the results\n",
    "minimum_length_results.append(minimum_length)\n",
    "number_of_rules_results.append(len(rules))\n",
    "average_support_results.append(rules['support'].mean())\n"
   ]
  },
  {
   "cell_type": "code",
   "execution_count": 83,
   "id": "74603652",
   "metadata": {},
   "outputs": [
    {
     "name": "stdout",
     "output_type": "stream",
     "text": [
      "Minimum Length: 4\n",
      "Number of rules: 0\n",
      "Average Support: 0\n",
      "\n",
      "Minimum Length: 5\n",
      "Number of rules: 0\n",
      "Average Support: 0\n",
      "\n",
      "Minimum Length: 5\n",
      "Number of rules: 60\n",
      "Average Support: 0.11935000000000003\n",
      "\n"
     ]
    }
   ],
   "source": [
    "# Print the results for each minimum length\n",
    "for i in range(len(minimum_length_results)):\n",
    "    print(f\"Minimum Length: {minimum_length_results[i]}\")\n",
    "    print(f\"Number of rules: {number_of_rules_results[i]}\")\n",
    "    print(f\"Average Support: {average_support_results[i]}\")\n",
    "    print()"
   ]
  },
  {
   "cell_type": "code",
   "execution_count": 84,
   "id": "6b7e5987",
   "metadata": {},
   "outputs": [],
   "source": [
    "#For the minimum length of 4, no rules were generated, indicating that there are no associations between items of length 4 that meet the adjusted support threshold."
   ]
  },
  {
   "cell_type": "code",
   "execution_count": 85,
   "id": "d0a8a966",
   "metadata": {},
   "outputs": [],
   "source": [
    "# for the minimum length of 5, we have obtained 60 rules with an average support of approximately 0.119. This suggests that there are associations between items of length 5 that meet the adjusted support threshold."
   ]
  },
  {
   "cell_type": "markdown",
   "id": "1c92be48",
   "metadata": {},
   "source": [
    "#### By adjusting the support threshold, we have relaxed the criterion for an itemset to be considered frequent. This has resulted in the discovery of associations that were not identified previously."
   ]
  },
  {
   "cell_type": "markdown",
   "id": "6e044267",
   "metadata": {},
   "source": [
    "# Visualize the obtained rules using different plots:"
   ]
  },
  {
   "cell_type": "code",
   "execution_count": 94,
   "id": "67c447c6",
   "metadata": {},
   "outputs": [],
   "source": [
    "import matplotlib.pyplot as plt\n",
    "import seaborn as sns"
   ]
  },
  {
   "cell_type": "code",
   "execution_count": 95,
   "id": "7c703559",
   "metadata": {},
   "outputs": [
    {
     "name": "stderr",
     "output_type": "stream",
     "text": [
      "/Users/deeptilalwani/Downloads/anaconda3/lib/python3.10/site-packages/mlxtend/frequent_patterns/fpcommon.py:110: DeprecationWarning: DataFrames with non-bool types result in worse computationalperformance and their support might be discontinued in the future.Please use a DataFrame with bool type\n",
      "  warnings.warn(\n"
     ]
    }
   ],
   "source": [
    "# Apply the Apriori algorithm\n",
    "frequent_itemsets = apriori(data_binary, min_support=0.2, use_colnames=True)\n",
    "rules = association_rules(frequent_itemsets, metric=\"confidence\", min_threshold=0.5)"
   ]
  },
  {
   "cell_type": "code",
   "execution_count": 96,
   "id": "3e02a255",
   "metadata": {},
   "outputs": [
    {
     "data": {
      "image/png": "[encoded data removed]",
      "text/plain": [
       "<Figure size 800x600 with 1 Axes>"
      ]
     },
     "metadata": {},
     "output_type": "display_data"
    }
   ],
   "source": [
    "# Scatter plot: Support vs Confidence\n",
    "plt.figure(figsize=(8, 6))\n",
    "sns.scatterplot(x=rules[\"support\"], y=rules[\"confidence\"], alpha=0.7)\n",
    "plt.xlabel(\"Support\")\n",
    "plt.ylabel(\"Confidence\")\n",
    "plt.title(\"Support vs Confidence\")\n",
    "plt.show()"
   ]
  },
  {
   "cell_type": "markdown",
   "id": "e351b2fb",
   "metadata": {},
   "source": [
    "##### We plot the support vs confidence values for each rule using sns.scatterplot. This plot helps visualize the relationship between support and confidence for the rules."
   ]
  },
  {
   "cell_type": "code",
   "execution_count": 98,
   "id": "917754d1",
   "metadata": {},
   "outputs": [
    {
     "data": {
      "image/png": "[encoded data removed]",
      "text/plain": [
       "<Figure size 1000x600 with 1 Axes>"
      ]
     },
     "metadata": {},
     "output_type": "display_data"
    }
   ],
   "source": [
    "# Bar plot: Top 10 rules by Lift\n",
    "top_10_lift = rules.nlargest(10, \"lift\")\n",
    "plt.figure(figsize=(10, 6))\n",
    "sns.barplot(x=top_10_lift[\"lift\"], y=top_10_lift.index, palette=\"viridis\")\n",
    "plt.xlabel(\"Lift\")\n",
    "plt.ylabel(\"Rule\")\n",
    "plt.title(\"Top 10 Rules by Lift\")\n",
    "plt.show()"
   ]
  },
  {
   "cell_type": "markdown",
   "id": "95a1a474",
   "metadata": {},
   "source": [
    "##### We select the top 10 rules based on lift and create a horizontal bar plot to display the lift values for each rule using sns.barplot. This plot allows us to compare the lift values of the top rules."
   ]
  },
  {
   "cell_type": "code",
   "execution_count": 99,
   "id": "cc2a4bae",
   "metadata": {},
   "outputs": [
    {
     "data": {
      "image/png": "[encoded data removed]",
      "text/plain": [
       "<Figure size 1000x800 with 2 Axes>"
      ]
     },
     "metadata": {},
     "output_type": "display_data"
    }
   ],
   "source": [
    "# Heatmap: Support and Confidence\n",
    "heatmap_data = rules.pivot(index=\"consequents\", columns=\"antecedents\", values=[\"support\", \"confidence\"])\n",
    "plt.figure(figsize=(10, 8))\n",
    "sns.heatmap(heatmap_data, cmap=\"YlGnBu\", annot=True, fmt=\".2f\", cbar=True)\n",
    "plt.xlabel(\"Antecedents\")\n",
    "plt.ylabel(\"Consequents\")\n",
    "plt.title(\"Support and Confidence\")\n",
    "plt.show()"
   ]
  },
  {
   "cell_type": "markdown",
   "id": "49ad6d57",
   "metadata": {},
   "source": [
    "##### We create a heatmap to visualize the support and confidence values for each combination of antecedents and consequents. The heatmap is generated using sns.heatmap and provides a comprehensive view of the support and confidence levels."
   ]
  },
  {
   "cell_type": "code",
   "execution_count": null,
   "id": "48e76bee",
   "metadata": {},
   "outputs": [],
   "source": []
  }
 ],
 "metadata": {
  "kernelspec": {
   "display_name": "Python 3 (ipykernel)",
   "language": "python",
   "name": "python3"
  },
  "language_info": {
   "codemirror_mode": {
    "name": "ipython",
    "version": 3
   },
   "file_extension": ".py",
   "mimetype": "text/x-python",
   "name": "python",
   "nbconvert_exporter": "python",
   "pygments_lexer": "ipython3",
   "version": "3.10.9"
  }
 },
 "nbformat": 4,
 "nbformat_minor": 5
}
