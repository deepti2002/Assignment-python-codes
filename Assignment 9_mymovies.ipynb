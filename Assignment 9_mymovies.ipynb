{
 "cells": [
  {
   "cell_type": "code",
   "execution_count": 1,
   "id": "393b489e",
   "metadata": {},
   "outputs": [],
   "source": [
    "import pandas as pd\n",
    "from mlxtend.frequent_patterns import apriori\n",
    "from mlxtend.frequent_patterns import association_rules\n",
    "import matplotlib.pyplot as plt"
   ]
  },
  {
   "cell_type": "code",
   "execution_count": 2,
   "id": "ce89ebd6",
   "metadata": {},
   "outputs": [
    {
     "name": "stdout",
     "output_type": "stream",
     "text": [
      "Requirement already satisfied: mlxtend in ./Downloads/anaconda3/lib/python3.10/site-packages (0.22.0)\n",
      "Requirement already satisfied: joblib>=0.13.2 in ./Downloads/anaconda3/lib/python3.10/site-packages (from mlxtend) (1.1.1)\n",
      "Requirement already satisfied: scikit-learn>=1.0.2 in ./Downloads/anaconda3/lib/python3.10/site-packages (from mlxtend) (1.2.1)\n",
      "Requirement already satisfied: matplotlib>=3.0.0 in ./Downloads/anaconda3/lib/python3.10/site-packages (from mlxtend) (3.7.0)\n",
      "Requirement already satisfied: numpy>=1.16.2 in ./Downloads/anaconda3/lib/python3.10/site-packages (from mlxtend) (1.23.5)\n",
      "Requirement already satisfied: pandas>=0.24.2 in ./Downloads/anaconda3/lib/python3.10/site-packages (from mlxtend) (1.5.3)\n",
      "Requirement already satisfied: setuptools in ./Downloads/anaconda3/lib/python3.10/site-packages (from mlxtend) (65.6.3)\n",
      "Requirement already satisfied: scipy>=1.2.1 in ./Downloads/anaconda3/lib/python3.10/site-packages (from mlxtend) (1.10.0)\n",
      "Requirement already satisfied: pyparsing>=2.3.1 in ./Downloads/anaconda3/lib/python3.10/site-packages (from matplotlib>=3.0.0->mlxtend) (3.0.9)\n",
      "Requirement already satisfied: python-dateutil>=2.7 in ./Downloads/anaconda3/lib/python3.10/site-packages (from matplotlib>=3.0.0->mlxtend) (2.8.2)\n",
      "Requirement already satisfied: cycler>=0.10 in ./Downloads/anaconda3/lib/python3.10/site-packages (from matplotlib>=3.0.0->mlxtend) (0.11.0)\n",
      "Requirement already satisfied: packaging>=20.0 in ./Downloads/anaconda3/lib/python3.10/site-packages (from matplotlib>=3.0.0->mlxtend) (22.0)\n",
      "Requirement already satisfied: kiwisolver>=1.0.1 in ./Downloads/anaconda3/lib/python3.10/site-packages (from matplotlib>=3.0.0->mlxtend) (1.4.4)\n",
      "Requirement already satisfied: pillow>=6.2.0 in ./Downloads/anaconda3/lib/python3.10/site-packages (from matplotlib>=3.0.0->mlxtend) (9.4.0)\n",
      "Requirement already satisfied: contourpy>=1.0.1 in ./Downloads/anaconda3/lib/python3.10/site-packages (from matplotlib>=3.0.0->mlxtend) (1.0.5)\n",
      "Requirement already satisfied: fonttools>=4.22.0 in ./Downloads/anaconda3/lib/python3.10/site-packages (from matplotlib>=3.0.0->mlxtend) (4.25.0)\n",
      "Requirement already satisfied: pytz>=2020.1 in ./Downloads/anaconda3/lib/python3.10/site-packages (from pandas>=0.24.2->mlxtend) (2022.7)\n",
      "Requirement already satisfied: threadpoolctl>=2.0.0 in ./Downloads/anaconda3/lib/python3.10/site-packages (from scikit-learn>=1.0.2->mlxtend) (2.2.0)\n",
      "Requirement already satisfied: six>=1.5 in ./Downloads/anaconda3/lib/python3.10/site-packages (from python-dateutil>=2.7->matplotlib>=3.0.0->mlxtend) (1.16.0)\n"
     ]
    }
   ],
   "source": [
    "!pip install mlxtend"
   ]
  },
  {
   "cell_type": "markdown",
   "id": "69d91d48",
   "metadata": {},
   "source": [
    "# Try different values of support and confidence¶"
   ]
  },
  {
   "cell_type": "code",
   "execution_count": 3,
   "id": "486127ef",
   "metadata": {},
   "outputs": [],
   "source": [
    "# Load the dataset\n",
    "data = pd.read_csv(\"/Users/deeptilalwani/Documents/Data Science/ASSIGNMENTS/9/my_movies.csv\")"
   ]
  },
  {
   "cell_type": "code",
   "execution_count": 4,
   "id": "a176a07c",
   "metadata": {},
   "outputs": [
    {
     "data": {
      "text/html": [
       "<div>\n",
       "<style scoped>\n",
       "    .dataframe tbody tr th:only-of-type {\n",
       "        vertical-align: middle;\n",
       "    }\n",
       "\n",
       "    .dataframe tbody tr th {\n",
       "        vertical-align: top;\n",
       "    }\n",
       "\n",
       "    .dataframe thead th {\n",
       "        text-align: right;\n",
       "    }\n",
       "</style>\n",
       "<table border=\"1\" class=\"dataframe\">\n",
       "  <thead>\n",
       "    <tr style=\"text-align: right;\">\n",
       "      <th></th>\n",
       "      <th>V1</th>\n",
       "      <th>V2</th>\n",
       "      <th>V3</th>\n",
       "      <th>V4</th>\n",
       "      <th>V5</th>\n",
       "      <th>Sixth Sense</th>\n",
       "      <th>Gladiator</th>\n",
       "      <th>LOTR1</th>\n",
       "      <th>Harry Potter1</th>\n",
       "      <th>Patriot</th>\n",
       "      <th>LOTR2</th>\n",
       "      <th>Harry Potter2</th>\n",
       "      <th>LOTR</th>\n",
       "      <th>Braveheart</th>\n",
       "      <th>Green Mile</th>\n",
       "    </tr>\n",
       "  </thead>\n",
       "  <tbody>\n",
       "    <tr>\n",
       "      <th>0</th>\n",
       "      <td>Sixth Sense</td>\n",
       "      <td>LOTR1</td>\n",
       "      <td>Harry Potter1</td>\n",
       "      <td>Green Mile</td>\n",
       "      <td>LOTR2</td>\n",
       "      <td>1</td>\n",
       "      <td>0</td>\n",
       "      <td>1</td>\n",
       "      <td>1</td>\n",
       "      <td>0</td>\n",
       "      <td>1</td>\n",
       "      <td>0</td>\n",
       "      <td>0</td>\n",
       "      <td>0</td>\n",
       "      <td>1</td>\n",
       "    </tr>\n",
       "    <tr>\n",
       "      <th>1</th>\n",
       "      <td>Gladiator</td>\n",
       "      <td>Patriot</td>\n",
       "      <td>Braveheart</td>\n",
       "      <td>NaN</td>\n",
       "      <td>NaN</td>\n",
       "      <td>0</td>\n",
       "      <td>1</td>\n",
       "      <td>0</td>\n",
       "      <td>0</td>\n",
       "      <td>1</td>\n",
       "      <td>0</td>\n",
       "      <td>0</td>\n",
       "      <td>0</td>\n",
       "      <td>1</td>\n",
       "      <td>0</td>\n",
       "    </tr>\n",
       "    <tr>\n",
       "      <th>2</th>\n",
       "      <td>LOTR1</td>\n",
       "      <td>LOTR2</td>\n",
       "      <td>NaN</td>\n",
       "      <td>NaN</td>\n",
       "      <td>NaN</td>\n",
       "      <td>0</td>\n",
       "      <td>0</td>\n",
       "      <td>1</td>\n",
       "      <td>0</td>\n",
       "      <td>0</td>\n",
       "      <td>1</td>\n",
       "      <td>0</td>\n",
       "      <td>0</td>\n",
       "      <td>0</td>\n",
       "      <td>0</td>\n",
       "    </tr>\n",
       "    <tr>\n",
       "      <th>3</th>\n",
       "      <td>Gladiator</td>\n",
       "      <td>Patriot</td>\n",
       "      <td>Sixth Sense</td>\n",
       "      <td>NaN</td>\n",
       "      <td>NaN</td>\n",
       "      <td>1</td>\n",
       "      <td>1</td>\n",
       "      <td>0</td>\n",
       "      <td>0</td>\n",
       "      <td>1</td>\n",
       "      <td>0</td>\n",
       "      <td>0</td>\n",
       "      <td>0</td>\n",
       "      <td>0</td>\n",
       "      <td>0</td>\n",
       "    </tr>\n",
       "    <tr>\n",
       "      <th>4</th>\n",
       "      <td>Gladiator</td>\n",
       "      <td>Patriot</td>\n",
       "      <td>Sixth Sense</td>\n",
       "      <td>NaN</td>\n",
       "      <td>NaN</td>\n",
       "      <td>1</td>\n",
       "      <td>1</td>\n",
       "      <td>0</td>\n",
       "      <td>0</td>\n",
       "      <td>1</td>\n",
       "      <td>0</td>\n",
       "      <td>0</td>\n",
       "      <td>0</td>\n",
       "      <td>0</td>\n",
       "      <td>0</td>\n",
       "    </tr>\n",
       "  </tbody>\n",
       "</table>\n",
       "</div>"
      ],
      "text/plain": [
       "            V1       V2             V3          V4     V5  Sixth Sense  \\\n",
       "0  Sixth Sense    LOTR1  Harry Potter1  Green Mile  LOTR2            1   \n",
       "1    Gladiator  Patriot     Braveheart         NaN    NaN            0   \n",
       "2        LOTR1    LOTR2            NaN         NaN    NaN            0   \n",
       "3    Gladiator  Patriot    Sixth Sense         NaN    NaN            1   \n",
       "4    Gladiator  Patriot    Sixth Sense         NaN    NaN            1   \n",
       "\n",
       "   Gladiator  LOTR1  Harry Potter1  Patriot  LOTR2  Harry Potter2  LOTR  \\\n",
       "0          0      1              1        0      1              0     0   \n",
       "1          1      0              0        1      0              0     0   \n",
       "2          0      1              0        0      1              0     0   \n",
       "3          1      0              0        1      0              0     0   \n",
       "4          1      0              0        1      0              0     0   \n",
       "\n",
       "   Braveheart  Green Mile  \n",
       "0           0           1  \n",
       "1           1           0  \n",
       "2           0           0  \n",
       "3           0           0  \n",
       "4           0           0  "
      ]
     },
     "execution_count": 4,
     "metadata": {},
     "output_type": "execute_result"
    }
   ],
   "source": [
    "data.head()"
   ]
  },
  {
   "cell_type": "code",
   "execution_count": 5,
   "id": "2e22f5c4",
   "metadata": {},
   "outputs": [
    {
     "data": {
      "text/plain": [
       "(10, 15)"
      ]
     },
     "execution_count": 5,
     "metadata": {},
     "output_type": "execute_result"
    }
   ],
   "source": [
    "data.shape"
   ]
  },
  {
   "cell_type": "code",
   "execution_count": 6,
   "id": "23af7c02",
   "metadata": {},
   "outputs": [],
   "source": [
    "# Convert the data to a one-hot encoded format\n",
    "data_encoded = pd.get_dummies(data)"
   ]
  },
  {
   "cell_type": "code",
   "execution_count": 7,
   "id": "816c8e5a",
   "metadata": {},
   "outputs": [],
   "source": [
    "# Apply the Apriori algorithm with different support and confidence values\n",
    "support_values = [0.1, 0.2, 0.3]\n",
    "confidence_values = [0.5, 0.6, 0.7]\n"
   ]
  },
  {
   "cell_type": "code",
   "execution_count": 13,
   "id": "1fbe0604",
   "metadata": {},
   "outputs": [
    {
     "name": "stderr",
     "output_type": "stream",
     "text": [
      "/Users/deeptilalwani/Downloads/anaconda3/lib/python3.10/site-packages/mlxtend/frequent_patterns/fpcommon.py:110: DeprecationWarning: DataFrames with non-bool types result in worse computationalperformance and their support might be discontinued in the future.Please use a DataFrame with bool type\n",
      "  warnings.warn(\n"
     ]
    },
    {
     "name": "stdout",
     "output_type": "stream",
     "text": [
      "Support=0.1, Confidence=0.5\n",
      "Number of rules: 63238\n",
      "\n"
     ]
    },
    {
     "name": "stderr",
     "output_type": "stream",
     "text": [
      "/Users/deeptilalwani/Downloads/anaconda3/lib/python3.10/site-packages/mlxtend/frequent_patterns/fpcommon.py:110: DeprecationWarning: DataFrames with non-bool types result in worse computationalperformance and their support might be discontinued in the future.Please use a DataFrame with bool type\n",
      "  warnings.warn(\n"
     ]
    },
    {
     "name": "stdout",
     "output_type": "stream",
     "text": [
      "Support=0.1, Confidence=0.6\n",
      "Number of rules: 56961\n",
      "\n"
     ]
    },
    {
     "name": "stderr",
     "output_type": "stream",
     "text": [
      "/Users/deeptilalwani/Downloads/anaconda3/lib/python3.10/site-packages/mlxtend/frequent_patterns/fpcommon.py:110: DeprecationWarning: DataFrames with non-bool types result in worse computationalperformance and their support might be discontinued in the future.Please use a DataFrame with bool type\n",
      "  warnings.warn(\n"
     ]
    },
    {
     "name": "stdout",
     "output_type": "stream",
     "text": [
      "Support=0.1, Confidence=0.7\n",
      "Number of rules: 56760\n",
      "\n",
      "Support=0.2, Confidence=0.5\n",
      "Number of rules: 647\n",
      "\n",
      "Support=0.2, Confidence=0.6\n",
      "Number of rules: 624\n",
      "\n",
      "Support=0.2, Confidence=0.7\n",
      "Number of rules: 423\n",
      "\n",
      "Support=0.3, Confidence=0.5\n",
      "Number of rules: 602\n",
      "\n",
      "Support=0.3, Confidence=0.6\n",
      "Number of rules: 579\n",
      "\n",
      "Support=0.3, Confidence=0.7\n",
      "Number of rules: 378\n",
      "\n"
     ]
    },
    {
     "name": "stderr",
     "output_type": "stream",
     "text": [
      "/Users/deeptilalwani/Downloads/anaconda3/lib/python3.10/site-packages/mlxtend/frequent_patterns/fpcommon.py:110: DeprecationWarning: DataFrames with non-bool types result in worse computationalperformance and their support might be discontinued in the future.Please use a DataFrame with bool type\n",
      "  warnings.warn(\n",
      "/Users/deeptilalwani/Downloads/anaconda3/lib/python3.10/site-packages/mlxtend/frequent_patterns/fpcommon.py:110: DeprecationWarning: DataFrames with non-bool types result in worse computationalperformance and their support might be discontinued in the future.Please use a DataFrame with bool type\n",
      "  warnings.warn(\n",
      "/Users/deeptilalwani/Downloads/anaconda3/lib/python3.10/site-packages/mlxtend/frequent_patterns/fpcommon.py:110: DeprecationWarning: DataFrames with non-bool types result in worse computationalperformance and their support might be discontinued in the future.Please use a DataFrame with bool type\n",
      "  warnings.warn(\n",
      "/Users/deeptilalwani/Downloads/anaconda3/lib/python3.10/site-packages/mlxtend/frequent_patterns/fpcommon.py:110: DeprecationWarning: DataFrames with non-bool types result in worse computationalperformance and their support might be discontinued in the future.Please use a DataFrame with bool type\n",
      "  warnings.warn(\n",
      "/Users/deeptilalwani/Downloads/anaconda3/lib/python3.10/site-packages/mlxtend/frequent_patterns/fpcommon.py:110: DeprecationWarning: DataFrames with non-bool types result in worse computationalperformance and their support might be discontinued in the future.Please use a DataFrame with bool type\n",
      "  warnings.warn(\n",
      "/Users/deeptilalwani/Downloads/anaconda3/lib/python3.10/site-packages/mlxtend/frequent_patterns/fpcommon.py:110: DeprecationWarning: DataFrames with non-bool types result in worse computationalperformance and their support might be discontinued in the future.Please use a DataFrame with bool type\n",
      "  warnings.warn(\n"
     ]
    }
   ],
   "source": [
    "for support in support_values:\n",
    "    for confidence in confidence_values:\n",
    "        frequent_itemsets = apriori(data_encoded, min_support=support, use_colnames=True)\n",
    "        rules = association_rules(frequent_itemsets, metric=\"confidence\", min_threshold=confidence)\n",
    "        \n",
    "        # Print the number of rules for each combination of support and confidence\n",
    "        print(f\"Support={support}, Confidence={confidence}\")\n",
    "        print(f\"Number of rules: {len(rules)}\\n\")"
   ]
  },
  {
   "cell_type": "markdown",
   "id": "dba50cc9",
   "metadata": {},
   "source": [
    "### pattern or trends from above"
   ]
  },
  {
   "cell_type": "code",
   "execution_count": 14,
   "id": "70d1344e",
   "metadata": {},
   "outputs": [],
   "source": [
    "#As the support threshold decreases, the number of rules tends to increase. \n",
    "#As the confidence threshold increases, the number of rules tends to decrease. "
   ]
  },
  {
   "cell_type": "markdown",
   "id": "8e998df0",
   "metadata": {},
   "source": [
    "##### Overall, the choice of support and confidence thresholds can significantly impact the number of generated rules. A lower support threshold and a higher confidence threshold tend to result in a smaller set of more significant rules, whereas a higher support threshold and a lower confidence threshold lead to a larger set of rules, including weaker associations. "
   ]
  },
  {
   "cell_type": "markdown",
   "id": "e77821da",
   "metadata": {},
   "source": [
    "# Change the minimum length in the Apriori algorithm:"
   ]
  },
  {
   "cell_type": "code",
   "execution_count": 15,
   "id": "5b72fcdc",
   "metadata": {},
   "outputs": [],
   "source": [
    "# Change the minimum length in Apriori algorithm\n",
    "min_length_values = [2, 3, 4]"
   ]
  },
  {
   "cell_type": "code",
   "execution_count": 20,
   "id": "485cdc7b",
   "metadata": {},
   "outputs": [],
   "source": [
    "# Define lists to store results\n",
    "minimum_length_results = []\n",
    "number_of_rules_results = []\n",
    "average_support_results = []"
   ]
  },
  {
   "cell_type": "code",
   "execution_count": 21,
   "id": "a5f028b9",
   "metadata": {},
   "outputs": [
    {
     "name": "stderr",
     "output_type": "stream",
     "text": [
      "/Users/deeptilalwani/Downloads/anaconda3/lib/python3.10/site-packages/mlxtend/frequent_patterns/fpcommon.py:110: DeprecationWarning: DataFrames with non-bool types result in worse computationalperformance and their support might be discontinued in the future.Please use a DataFrame with bool type\n",
      "  warnings.warn(\n",
      "/Users/deeptilalwani/Downloads/anaconda3/lib/python3.10/site-packages/mlxtend/frequent_patterns/fpcommon.py:110: DeprecationWarning: DataFrames with non-bool types result in worse computationalperformance and their support might be discontinued in the future.Please use a DataFrame with bool type\n",
      "  warnings.warn(\n",
      "/Users/deeptilalwani/Downloads/anaconda3/lib/python3.10/site-packages/mlxtend/frequent_patterns/fpcommon.py:110: DeprecationWarning: DataFrames with non-bool types result in worse computationalperformance and their support might be discontinued in the future.Please use a DataFrame with bool type\n",
      "  warnings.warn(\n"
     ]
    }
   ],
   "source": [
    "for min_length in min_length_values:\n",
    "    frequent_itemsets = apriori(data_encoded, min_support=0.2, use_colnames=True)\n",
    "    rules = association_rules(frequent_itemsets, metric=\"confidence\", min_threshold=0.6)\n",
    "    \n",
    "    # Filter rules based on minimum length\n",
    "    rules_filtered = rules[rules['antecedents'].apply(lambda x: len(x) >= min_length)]\n",
    "    \n",
    "    # Store results in lists\n",
    "    minimum_length_results.append(min_length)\n",
    "    number_of_rules_results.append(len(rules_filtered))\n",
    "    average_support_results.append(rules_filtered['support'].mean())\n",
    "    "
   ]
  },
  {
   "cell_type": "code",
   "execution_count": 24,
   "id": "471c7199",
   "metadata": {},
   "outputs": [
    {
     "name": "stdout",
     "output_type": "stream",
     "text": [
      "Results:\n",
      "Minimum Length=2\n",
      "Number of rules: 438\n",
      "Average support: 0.39999999999999997\n",
      "\n",
      "Minimum Length=3\n",
      "Number of rules: 195\n",
      "Average support: 0.4\n",
      "\n",
      "Minimum Length=4\n",
      "Number of rules: 51\n",
      "Average support: 0.3999999999999999\n",
      "\n"
     ]
    }
   ],
   "source": [
    "\n",
    "# Print the stored results\n",
    "print(\"Results:\")\n",
    "for i in range(len(minimum_length_results)):\n",
    "    print(f\"Minimum Length={minimum_length_results[i]}\")\n",
    "    print(f\"Number of rules: {number_of_rules_results[i]}\")\n",
    "    print(f\"Average support: {average_support_results[i]}\\n\")"
   ]
  },
  {
   "cell_type": "code",
   "execution_count": 25,
   "id": "51c34a6f",
   "metadata": {},
   "outputs": [],
   "source": [
    "#As the minimum length of the rules increases, the number of generated rules decreases. \n",
    "#Across different minimum lengths, the average support remains relatively consistent, ranging from approximately 0.4 to 0.4 (with slight variations due to floating-point precision)."
   ]
  },
  {
   "cell_type": "markdown",
   "id": "6c819b3c",
   "metadata": {},
   "source": [
    "##### Overall, increasing the minimum length requirement filters out weaker associations and results in a smaller set of more specific rules. These rules tend to have a higher level of support, indicating that they correspond to more frequent itemsets within the dataset.\n",
    "\n",
    "\n",
    "\n",
    "\n",
    "\n"
   ]
  },
  {
   "cell_type": "markdown",
   "id": "536eb4e1",
   "metadata": {},
   "source": [
    "# Visualize the obtained rules using different plots"
   ]
  },
  {
   "cell_type": "code",
   "execution_count": 26,
   "id": "028da8ab",
   "metadata": {},
   "outputs": [
    {
     "data": {
      "image/png": "[encoded data removed]",
      "text/plain": [
       "<Figure size 640x480 with 1 Axes>"
      ]
     },
     "metadata": {},
     "output_type": "display_data"
    }
   ],
   "source": [
    "support_vs_confidence = plt.scatter(rules[\"support\"], rules[\"confidence\"])\n",
    "plt.xlabel(\"Support\")\n",
    "plt.ylabel(\"Confidence\")\n",
    "plt.title(\"Support vs. Confidence\")\n",
    "plt.show()\n"
   ]
  },
  {
   "cell_type": "code",
   "execution_count": 30,
   "id": "09050c41",
   "metadata": {},
   "outputs": [],
   "source": [
    "#t helps identify patterns or trends between the two measures, indicating the level of support required for a given confidence threshold.\n",
    "#The rules are all over scaered and more than 50 percent of rules lie on and beyond the support range of 0.40\n"
   ]
  },
  {
   "cell_type": "code",
   "execution_count": 27,
   "id": "2658b9cf",
   "metadata": {},
   "outputs": [
    {
     "data": {
      "image/png": "[encoded data removed]",
      "text/plain": [
       "<Figure size 640x480 with 1 Axes>"
      ]
     },
     "metadata": {},
     "output_type": "display_data"
    }
   ],
   "source": [
    "support_vs_lift = plt.scatter(rules[\"support\"], rules[\"lift\"])\n",
    "plt.xlabel(\"Support\")\n",
    "plt.ylabel(\"Lift\")\n",
    "plt.title(\"Support vs. Lift\")\n",
    "plt.show()"
   ]
  },
  {
   "cell_type": "code",
   "execution_count": 31,
   "id": "4762e8d1",
   "metadata": {},
   "outputs": [],
   "source": [
    "#It helps understand the impact of support on the lift value, which measures the strength of the association between antecedents and consequents.\n",
    "#Rules with high lift and support, indicating strong associations between items in the dataset."
   ]
  },
  {
   "cell_type": "code",
   "execution_count": 29,
   "id": "0e2bd28d",
   "metadata": {},
   "outputs": [
    {
     "data": {
      "image/png": "[encoded data removed]",
      "text/plain": [
       "<Figure size 640x480 with 2 Axes>"
      ]
     },
     "metadata": {},
     "output_type": "display_data"
    }
   ],
   "source": [
    "plt.imshow(rules.pivot(index='antecedents', columns='consequents', values='confidence'), cmap='YlOrRd', interpolation='None')\n",
    "plt.colorbar()\n",
    "plt.title(\"Rule Heatmap\")\n",
    "plt.show()"
   ]
  },
  {
   "cell_type": "code",
   "execution_count": 32,
   "id": "977551f7",
   "metadata": {},
   "outputs": [],
   "source": [
    "#We create a heatmap to visualize the support and confidence values for each combination of antecedents and consequents."
   ]
  },
  {
   "cell_type": "code",
   "execution_count": null,
   "id": "a1fdf541",
   "metadata": {},
   "outputs": [],
   "source": []
  }
 ],
 "metadata": {
  "kernelspec": {
   "display_name": "Python 3 (ipykernel)",
   "language": "python",
   "name": "python3"
  },
  "language_info": {
   "codemirror_mode": {
    "name": "ipython",
    "version": 3
   },
   "file_extension": ".py",
   "mimetype": "text/x-python",
   "name": "python",
   "nbconvert_exporter": "python",
   "pygments_lexer": "ipython3",
   "version": "3.10.9"
  }
 },
 "nbformat": 4,
 "nbformat_minor": 5
}
